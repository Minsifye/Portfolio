{
 "cells": [
  {
   "cell_type": "code",
   "execution_count": 1,
   "metadata": {},
   "outputs": [],
   "source": [
    "import pandas as pd\n",
    "import numpy as np\n",
    "import matplotlib.pyplot as plt\n",
    "import seaborn as sns\n",
    "import warnings\n",
    "warnings.filterwarnings(\"ignore\")\n",
    "%matplotlib inline\n",
    "import scipy.stats\n",
    "from sklearn.model_selection import train_test_split\n",
    "from sklearn.metrics import classification_report,confusion_matrix, accuracy_score, recall_score\n",
    "from sklearn.linear_model import LogisticRegression\n",
    "from sklearn.ensemble import RandomForestClassifier\n",
    "import networkx as nx"
   ]
  },
  {
   "cell_type": "markdown",
   "metadata": {},
   "source": [
    "### Loading Dataset - Customer Transactions"
   ]
  },
  {
   "cell_type": "code",
   "execution_count": 2,
   "metadata": {},
   "outputs": [],
   "source": [
    "df = pd.read_csv('customer_transaction.csv')"
   ]
  },
  {
   "cell_type": "code",
   "execution_count": 3,
   "metadata": {},
   "outputs": [
    {
     "data": {
      "text/html": [
       "<div>\n",
       "<style scoped>\n",
       "    .dataframe tbody tr th:only-of-type {\n",
       "        vertical-align: middle;\n",
       "    }\n",
       "\n",
       "    .dataframe tbody tr th {\n",
       "        vertical-align: top;\n",
       "    }\n",
       "\n",
       "    .dataframe thead th {\n",
       "        text-align: right;\n",
       "    }\n",
       "</style>\n",
       "<table border=\"1\" class=\"dataframe\">\n",
       "  <thead>\n",
       "    <tr style=\"text-align: right;\">\n",
       "      <th></th>\n",
       "      <th>is_Alerted</th>\n",
       "      <th>is_Suspicious</th>\n",
       "      <th>Account_number</th>\n",
       "      <th>Transaction_date</th>\n",
       "      <th>transaction_location</th>\n",
       "      <th>transaction_amount</th>\n",
       "      <th>correspondent_bank</th>\n",
       "      <th>party_name</th>\n",
       "      <th>primary_party_account_number</th>\n",
       "      <th>debit_credit</th>\n",
       "      <th>...</th>\n",
       "      <th>identification_number</th>\n",
       "      <th>Score1</th>\n",
       "      <th>Score2</th>\n",
       "      <th>Score3</th>\n",
       "      <th>Score4</th>\n",
       "      <th>Score5</th>\n",
       "      <th>Score6</th>\n",
       "      <th>Score7</th>\n",
       "      <th>Score</th>\n",
       "      <th>is_noncitizen</th>\n",
       "    </tr>\n",
       "  </thead>\n",
       "  <tbody>\n",
       "    <tr>\n",
       "      <th>0</th>\n",
       "      <td>0</td>\n",
       "      <td>0</td>\n",
       "      <td>481071431</td>\n",
       "      <td>11/20/19</td>\n",
       "      <td>94138.0</td>\n",
       "      <td>86810.0</td>\n",
       "      <td>Y</td>\n",
       "      <td>Callie Stephens</td>\n",
       "      <td>373956530</td>\n",
       "      <td>Debit</td>\n",
       "      <td>...</td>\n",
       "      <td>16651008 9730</td>\n",
       "      <td>0</td>\n",
       "      <td>0</td>\n",
       "      <td>0</td>\n",
       "      <td>1</td>\n",
       "      <td>1</td>\n",
       "      <td>0</td>\n",
       "      <td>0</td>\n",
       "      <td>2</td>\n",
       "      <td>0</td>\n",
       "    </tr>\n",
       "    <tr>\n",
       "      <th>1</th>\n",
       "      <td>0</td>\n",
       "      <td>0</td>\n",
       "      <td>481071431</td>\n",
       "      <td>11/3/19</td>\n",
       "      <td>13131.0</td>\n",
       "      <td>556.0</td>\n",
       "      <td>Y</td>\n",
       "      <td>Jack Walsh</td>\n",
       "      <td>866665098</td>\n",
       "      <td>Credit</td>\n",
       "      <td>...</td>\n",
       "      <td>16651008 9730</td>\n",
       "      <td>0</td>\n",
       "      <td>0</td>\n",
       "      <td>0</td>\n",
       "      <td>0</td>\n",
       "      <td>0</td>\n",
       "      <td>0</td>\n",
       "      <td>0</td>\n",
       "      <td>0</td>\n",
       "      <td>0</td>\n",
       "    </tr>\n",
       "    <tr>\n",
       "      <th>2</th>\n",
       "      <td>0</td>\n",
       "      <td>0</td>\n",
       "      <td>481071431</td>\n",
       "      <td>11/7/19</td>\n",
       "      <td>31014.0</td>\n",
       "      <td>2490.0</td>\n",
       "      <td>N</td>\n",
       "      <td>Marvin Sanders</td>\n",
       "      <td>333833165</td>\n",
       "      <td>Debit</td>\n",
       "      <td>...</td>\n",
       "      <td>16651008 9730</td>\n",
       "      <td>0</td>\n",
       "      <td>0</td>\n",
       "      <td>0</td>\n",
       "      <td>0</td>\n",
       "      <td>0</td>\n",
       "      <td>0</td>\n",
       "      <td>0</td>\n",
       "      <td>0</td>\n",
       "      <td>0</td>\n",
       "    </tr>\n",
       "    <tr>\n",
       "      <th>3</th>\n",
       "      <td>0</td>\n",
       "      <td>0</td>\n",
       "      <td>481071431</td>\n",
       "      <td>11/19/19</td>\n",
       "      <td>87141.0</td>\n",
       "      <td>3700.0</td>\n",
       "      <td>Y</td>\n",
       "      <td>Knox Richard</td>\n",
       "      <td>584609046</td>\n",
       "      <td>Debit</td>\n",
       "      <td>...</td>\n",
       "      <td>16651008 9730</td>\n",
       "      <td>0</td>\n",
       "      <td>0</td>\n",
       "      <td>0</td>\n",
       "      <td>0</td>\n",
       "      <td>0</td>\n",
       "      <td>0</td>\n",
       "      <td>0</td>\n",
       "      <td>0</td>\n",
       "      <td>0</td>\n",
       "    </tr>\n",
       "    <tr>\n",
       "      <th>4</th>\n",
       "      <td>0</td>\n",
       "      <td>0</td>\n",
       "      <td>481071431</td>\n",
       "      <td>11/1/19</td>\n",
       "      <td>88740.0</td>\n",
       "      <td>11575.0</td>\n",
       "      <td>Y</td>\n",
       "      <td>Glenna Bryant</td>\n",
       "      <td>636260652</td>\n",
       "      <td>Credit</td>\n",
       "      <td>...</td>\n",
       "      <td>16651008 9730</td>\n",
       "      <td>0</td>\n",
       "      <td>0</td>\n",
       "      <td>0</td>\n",
       "      <td>0</td>\n",
       "      <td>1</td>\n",
       "      <td>0</td>\n",
       "      <td>0</td>\n",
       "      <td>1</td>\n",
       "      <td>0</td>\n",
       "    </tr>\n",
       "  </tbody>\n",
       "</table>\n",
       "<p>5 rows × 33 columns</p>\n",
       "</div>"
      ],
      "text/plain": [
       "   is_Alerted  is_Suspicious  Account_number Transaction_date  \\\n",
       "0           0              0       481071431         11/20/19   \n",
       "1           0              0       481071431          11/3/19   \n",
       "2           0              0       481071431          11/7/19   \n",
       "3           0              0       481071431         11/19/19   \n",
       "4           0              0       481071431          11/1/19   \n",
       "\n",
       "   transaction_location  transaction_amount correspondent_bank  \\\n",
       "0               94138.0             86810.0                  Y   \n",
       "1               13131.0               556.0                  Y   \n",
       "2               31014.0              2490.0                  N   \n",
       "3               87141.0              3700.0                  Y   \n",
       "4               88740.0             11575.0                  Y   \n",
       "\n",
       "        party_name  primary_party_account_number debit_credit  ...  \\\n",
       "0  Callie Stephens                     373956530        Debit  ...   \n",
       "1       Jack Walsh                     866665098       Credit  ...   \n",
       "2   Marvin Sanders                     333833165        Debit  ...   \n",
       "3     Knox Richard                     584609046        Debit  ...   \n",
       "4    Glenna Bryant                     636260652       Credit  ...   \n",
       "\n",
       "  identification_number Score1 Score2 Score3 Score4 Score5 Score6  Score7  \\\n",
       "0         16651008 9730      0      0      0      1      1      0       0   \n",
       "1         16651008 9730      0      0      0      0      0      0       0   \n",
       "2         16651008 9730      0      0      0      0      0      0       0   \n",
       "3         16651008 9730      0      0      0      0      0      0       0   \n",
       "4         16651008 9730      0      0      0      0      1      0       0   \n",
       "\n",
       "  Score is_noncitizen  \n",
       "0     2             0  \n",
       "1     0             0  \n",
       "2     0             0  \n",
       "3     0             0  \n",
       "4     1             0  \n",
       "\n",
       "[5 rows x 33 columns]"
      ]
     },
     "execution_count": 3,
     "metadata": {},
     "output_type": "execute_result"
    }
   ],
   "source": [
    "df.head()"
   ]
  },
  {
   "cell_type": "code",
   "execution_count": 4,
   "metadata": {},
   "outputs": [
    {
     "name": "stdout",
     "output_type": "stream",
     "text": [
      "<class 'pandas.core.frame.DataFrame'>\n",
      "RangeIndex: 1424 entries, 0 to 1423\n",
      "Data columns (total 33 columns):\n",
      "is_Alerted                      1424 non-null int64\n",
      "is_Suspicious                   1424 non-null int64\n",
      "Account_number                  1424 non-null int64\n",
      "Transaction_date                1424 non-null object\n",
      "transaction_location            1000 non-null float64\n",
      "transaction_amount              1424 non-null float64\n",
      "correspondent_bank              1424 non-null object\n",
      "party_name                      1000 non-null object\n",
      "primary_party_account_number    1424 non-null int64\n",
      "debit_credit                    1424 non-null object\n",
      "Account_First_name              667 non-null object\n",
      "Account_Last_Name               667 non-null object\n",
      "Account_Open_date               1424 non-null object\n",
      "Account_type                    1424 non-null object\n",
      "Account_Classification          1424 non-null object\n",
      "Risk_level                      1424 non-null object\n",
      "Zipcode                         1424 non-null object\n",
      "Annual_income                   1424 non-null float64\n",
      "citizenship_country             1424 non-null object\n",
      "email                           667 non-null object\n",
      "address                         667 non-null object\n",
      "branch                          667 non-null object\n",
      "Business_Sector                 1424 non-null object\n",
      "identification_number           1424 non-null object\n",
      "Score1                          1424 non-null int64\n",
      "Score2                          1424 non-null int64\n",
      "Score3                          1424 non-null int64\n",
      "Score4                          1424 non-null int64\n",
      "Score5                          1424 non-null int64\n",
      "Score6                          1424 non-null int64\n",
      "Score7                          1424 non-null int64\n",
      "Score                           1424 non-null int64\n",
      "is_noncitizen                   1424 non-null int64\n",
      "dtypes: float64(3), int64(13), object(17)\n",
      "memory usage: 367.2+ KB\n"
     ]
    }
   ],
   "source": [
    "df.info()"
   ]
  },
  {
   "cell_type": "markdown",
   "metadata": {},
   "source": [
    "#### Score column is calculated based on various rules if transaction_amount > 10k or more than that. Risk_level also contributes to score calculation and other rule based scenarios which generally are part of ETL logic.\n",
    "\n",
    "\n",
    "#### is_Alerted column represent an alert generated transaction by ETL system.\n",
    "#### is_Suspicious column represent a Real Suspicious transaction reported by Compliance Person.\n",
    "\n"
   ]
  },
  {
   "cell_type": "code",
   "execution_count": 5,
   "metadata": {},
   "outputs": [
    {
     "data": {
      "text/html": [
       "<div>\n",
       "<style scoped>\n",
       "    .dataframe tbody tr th:only-of-type {\n",
       "        vertical-align: middle;\n",
       "    }\n",
       "\n",
       "    .dataframe tbody tr th {\n",
       "        vertical-align: top;\n",
       "    }\n",
       "\n",
       "    .dataframe thead th {\n",
       "        text-align: right;\n",
       "    }\n",
       "</style>\n",
       "<table border=\"1\" class=\"dataframe\">\n",
       "  <thead>\n",
       "    <tr style=\"text-align: right;\">\n",
       "      <th></th>\n",
       "      <th>is_Alerted</th>\n",
       "      <th>is_Suspicious</th>\n",
       "      <th>Account_number</th>\n",
       "      <th>transaction_location</th>\n",
       "      <th>transaction_amount</th>\n",
       "      <th>primary_party_account_number</th>\n",
       "      <th>Annual_income</th>\n",
       "      <th>Score1</th>\n",
       "      <th>Score2</th>\n",
       "      <th>Score3</th>\n",
       "      <th>Score4</th>\n",
       "      <th>Score5</th>\n",
       "      <th>Score6</th>\n",
       "      <th>Score7</th>\n",
       "      <th>Score</th>\n",
       "      <th>is_noncitizen</th>\n",
       "    </tr>\n",
       "  </thead>\n",
       "  <tbody>\n",
       "    <tr>\n",
       "      <th>count</th>\n",
       "      <td>1424.000000</td>\n",
       "      <td>1424.000000</td>\n",
       "      <td>1.424000e+03</td>\n",
       "      <td>1000.000000</td>\n",
       "      <td>1424.000000</td>\n",
       "      <td>1.424000e+03</td>\n",
       "      <td>1424.000000</td>\n",
       "      <td>1424.000000</td>\n",
       "      <td>1424.000000</td>\n",
       "      <td>1424.000000</td>\n",
       "      <td>1424.000000</td>\n",
       "      <td>1424.000000</td>\n",
       "      <td>1424.000000</td>\n",
       "      <td>1424.000000</td>\n",
       "      <td>1424.000000</td>\n",
       "      <td>1424.000000</td>\n",
       "    </tr>\n",
       "    <tr>\n",
       "      <th>mean</th>\n",
       "      <td>0.136938</td>\n",
       "      <td>0.116573</td>\n",
       "      <td>5.440362e+08</td>\n",
       "      <td>54366.597000</td>\n",
       "      <td>8491.331170</td>\n",
       "      <td>5.501509e+08</td>\n",
       "      <td>47878.659059</td>\n",
       "      <td>0.050562</td>\n",
       "      <td>0.167135</td>\n",
       "      <td>0.008427</td>\n",
       "      <td>0.009831</td>\n",
       "      <td>0.217697</td>\n",
       "      <td>0.247191</td>\n",
       "      <td>0.247191</td>\n",
       "      <td>0.948034</td>\n",
       "      <td>0.247191</td>\n",
       "    </tr>\n",
       "    <tr>\n",
       "      <th>std</th>\n",
       "      <td>0.343903</td>\n",
       "      <td>0.321024</td>\n",
       "      <td>2.555217e+08</td>\n",
       "      <td>26062.883698</td>\n",
       "      <td>35879.609748</td>\n",
       "      <td>2.562983e+08</td>\n",
       "      <td>35122.208412</td>\n",
       "      <td>0.219178</td>\n",
       "      <td>0.373227</td>\n",
       "      <td>0.091443</td>\n",
       "      <td>0.098700</td>\n",
       "      <td>0.412825</td>\n",
       "      <td>0.431530</td>\n",
       "      <td>0.431530</td>\n",
       "      <td>1.142101</td>\n",
       "      <td>0.431530</td>\n",
       "    </tr>\n",
       "    <tr>\n",
       "      <th>min</th>\n",
       "      <td>0.000000</td>\n",
       "      <td>0.000000</td>\n",
       "      <td>1.005775e+08</td>\n",
       "      <td>10013.000000</td>\n",
       "      <td>100.000000</td>\n",
       "      <td>1.001543e+08</td>\n",
       "      <td>12000.000000</td>\n",
       "      <td>0.000000</td>\n",
       "      <td>0.000000</td>\n",
       "      <td>0.000000</td>\n",
       "      <td>0.000000</td>\n",
       "      <td>0.000000</td>\n",
       "      <td>0.000000</td>\n",
       "      <td>0.000000</td>\n",
       "      <td>0.000000</td>\n",
       "      <td>0.000000</td>\n",
       "    </tr>\n",
       "    <tr>\n",
       "      <th>25%</th>\n",
       "      <td>0.000000</td>\n",
       "      <td>0.000000</td>\n",
       "      <td>3.259848e+08</td>\n",
       "      <td>32411.750000</td>\n",
       "      <td>500.000000</td>\n",
       "      <td>3.352303e+08</td>\n",
       "      <td>30000.000000</td>\n",
       "      <td>0.000000</td>\n",
       "      <td>0.000000</td>\n",
       "      <td>0.000000</td>\n",
       "      <td>0.000000</td>\n",
       "      <td>0.000000</td>\n",
       "      <td>0.000000</td>\n",
       "      <td>0.000000</td>\n",
       "      <td>0.000000</td>\n",
       "      <td>0.000000</td>\n",
       "    </tr>\n",
       "    <tr>\n",
       "      <th>50%</th>\n",
       "      <td>0.000000</td>\n",
       "      <td>0.000000</td>\n",
       "      <td>5.401266e+08</td>\n",
       "      <td>53346.500000</td>\n",
       "      <td>3862.500000</td>\n",
       "      <td>5.600725e+08</td>\n",
       "      <td>30000.000000</td>\n",
       "      <td>0.000000</td>\n",
       "      <td>0.000000</td>\n",
       "      <td>0.000000</td>\n",
       "      <td>0.000000</td>\n",
       "      <td>0.000000</td>\n",
       "      <td>0.000000</td>\n",
       "      <td>0.000000</td>\n",
       "      <td>1.000000</td>\n",
       "      <td>0.000000</td>\n",
       "    </tr>\n",
       "    <tr>\n",
       "      <th>75%</th>\n",
       "      <td>0.000000</td>\n",
       "      <td>0.000000</td>\n",
       "      <td>7.614837e+08</td>\n",
       "      <td>76249.500000</td>\n",
       "      <td>9256.250000</td>\n",
       "      <td>7.641838e+08</td>\n",
       "      <td>57084.958330</td>\n",
       "      <td>0.000000</td>\n",
       "      <td>0.000000</td>\n",
       "      <td>0.000000</td>\n",
       "      <td>0.000000</td>\n",
       "      <td>0.000000</td>\n",
       "      <td>0.000000</td>\n",
       "      <td>0.000000</td>\n",
       "      <td>2.000000</td>\n",
       "      <td>0.000000</td>\n",
       "    </tr>\n",
       "    <tr>\n",
       "      <th>max</th>\n",
       "      <td>1.000000</td>\n",
       "      <td>1.000000</td>\n",
       "      <td>9.996656e+08</td>\n",
       "      <td>99992.000000</td>\n",
       "      <td>978455.000000</td>\n",
       "      <td>9.996656e+08</td>\n",
       "      <td>279125.000000</td>\n",
       "      <td>1.000000</td>\n",
       "      <td>1.000000</td>\n",
       "      <td>1.000000</td>\n",
       "      <td>1.000000</td>\n",
       "      <td>1.000000</td>\n",
       "      <td>1.000000</td>\n",
       "      <td>1.000000</td>\n",
       "      <td>5.000000</td>\n",
       "      <td>1.000000</td>\n",
       "    </tr>\n",
       "  </tbody>\n",
       "</table>\n",
       "</div>"
      ],
      "text/plain": [
       "        is_Alerted  is_Suspicious  Account_number  transaction_location  \\\n",
       "count  1424.000000    1424.000000    1.424000e+03           1000.000000   \n",
       "mean      0.136938       0.116573    5.440362e+08          54366.597000   \n",
       "std       0.343903       0.321024    2.555217e+08          26062.883698   \n",
       "min       0.000000       0.000000    1.005775e+08          10013.000000   \n",
       "25%       0.000000       0.000000    3.259848e+08          32411.750000   \n",
       "50%       0.000000       0.000000    5.401266e+08          53346.500000   \n",
       "75%       0.000000       0.000000    7.614837e+08          76249.500000   \n",
       "max       1.000000       1.000000    9.996656e+08          99992.000000   \n",
       "\n",
       "       transaction_amount  primary_party_account_number  Annual_income  \\\n",
       "count         1424.000000                  1.424000e+03    1424.000000   \n",
       "mean          8491.331170                  5.501509e+08   47878.659059   \n",
       "std          35879.609748                  2.562983e+08   35122.208412   \n",
       "min            100.000000                  1.001543e+08   12000.000000   \n",
       "25%            500.000000                  3.352303e+08   30000.000000   \n",
       "50%           3862.500000                  5.600725e+08   30000.000000   \n",
       "75%           9256.250000                  7.641838e+08   57084.958330   \n",
       "max         978455.000000                  9.996656e+08  279125.000000   \n",
       "\n",
       "            Score1       Score2       Score3       Score4       Score5  \\\n",
       "count  1424.000000  1424.000000  1424.000000  1424.000000  1424.000000   \n",
       "mean      0.050562     0.167135     0.008427     0.009831     0.217697   \n",
       "std       0.219178     0.373227     0.091443     0.098700     0.412825   \n",
       "min       0.000000     0.000000     0.000000     0.000000     0.000000   \n",
       "25%       0.000000     0.000000     0.000000     0.000000     0.000000   \n",
       "50%       0.000000     0.000000     0.000000     0.000000     0.000000   \n",
       "75%       0.000000     0.000000     0.000000     0.000000     0.000000   \n",
       "max       1.000000     1.000000     1.000000     1.000000     1.000000   \n",
       "\n",
       "            Score6       Score7        Score  is_noncitizen  \n",
       "count  1424.000000  1424.000000  1424.000000    1424.000000  \n",
       "mean      0.247191     0.247191     0.948034       0.247191  \n",
       "std       0.431530     0.431530     1.142101       0.431530  \n",
       "min       0.000000     0.000000     0.000000       0.000000  \n",
       "25%       0.000000     0.000000     0.000000       0.000000  \n",
       "50%       0.000000     0.000000     1.000000       0.000000  \n",
       "75%       0.000000     0.000000     2.000000       0.000000  \n",
       "max       1.000000     1.000000     5.000000       1.000000  "
      ]
     },
     "execution_count": 5,
     "metadata": {},
     "output_type": "execute_result"
    }
   ],
   "source": [
    "df.describe()"
   ]
  },
  {
   "cell_type": "code",
   "execution_count": 6,
   "metadata": {},
   "outputs": [
    {
     "data": {
      "text/html": [
       "<div>\n",
       "<style scoped>\n",
       "    .dataframe tbody tr th:only-of-type {\n",
       "        vertical-align: middle;\n",
       "    }\n",
       "\n",
       "    .dataframe tbody tr th {\n",
       "        vertical-align: top;\n",
       "    }\n",
       "\n",
       "    .dataframe thead th {\n",
       "        text-align: right;\n",
       "    }\n",
       "</style>\n",
       "<table border=\"1\" class=\"dataframe\">\n",
       "  <thead>\n",
       "    <tr style=\"text-align: right;\">\n",
       "      <th></th>\n",
       "      <th>is_Alerted</th>\n",
       "      <th>is_Suspicious</th>\n",
       "    </tr>\n",
       "  </thead>\n",
       "  <tbody>\n",
       "    <tr>\n",
       "      <th>is_Alerted</th>\n",
       "      <td>1.000000</td>\n",
       "      <td>0.911953</td>\n",
       "    </tr>\n",
       "    <tr>\n",
       "      <th>is_Suspicious</th>\n",
       "      <td>0.911953</td>\n",
       "      <td>1.000000</td>\n",
       "    </tr>\n",
       "    <tr>\n",
       "      <th>Account_number</th>\n",
       "      <td>-0.013886</td>\n",
       "      <td>-0.041613</td>\n",
       "    </tr>\n",
       "    <tr>\n",
       "      <th>transaction_location</th>\n",
       "      <td>-0.039017</td>\n",
       "      <td>-0.045316</td>\n",
       "    </tr>\n",
       "    <tr>\n",
       "      <th>transaction_amount</th>\n",
       "      <td>0.168473</td>\n",
       "      <td>0.193095</td>\n",
       "    </tr>\n",
       "    <tr>\n",
       "      <th>primary_party_account_number</th>\n",
       "      <td>-0.038247</td>\n",
       "      <td>-0.017090</td>\n",
       "    </tr>\n",
       "    <tr>\n",
       "      <th>Annual_income</th>\n",
       "      <td>0.067657</td>\n",
       "      <td>0.111626</td>\n",
       "    </tr>\n",
       "    <tr>\n",
       "      <th>Score1</th>\n",
       "      <td>0.327619</td>\n",
       "      <td>0.075973</td>\n",
       "    </tr>\n",
       "    <tr>\n",
       "      <th>Score2</th>\n",
       "      <td>0.560690</td>\n",
       "      <td>0.558696</td>\n",
       "    </tr>\n",
       "    <tr>\n",
       "      <th>Score3</th>\n",
       "      <td>0.231437</td>\n",
       "      <td>0.253781</td>\n",
       "    </tr>\n",
       "    <tr>\n",
       "      <th>Score4</th>\n",
       "      <td>0.208750</td>\n",
       "      <td>0.229951</td>\n",
       "    </tr>\n",
       "    <tr>\n",
       "      <th>Score5</th>\n",
       "      <td>0.047267</td>\n",
       "      <td>0.078810</td>\n",
       "    </tr>\n",
       "    <tr>\n",
       "      <th>Score6</th>\n",
       "      <td>0.638309</td>\n",
       "      <td>0.573054</td>\n",
       "    </tr>\n",
       "    <tr>\n",
       "      <th>Score7</th>\n",
       "      <td>0.638309</td>\n",
       "      <td>0.573054</td>\n",
       "    </tr>\n",
       "    <tr>\n",
       "      <th>Score</th>\n",
       "      <td>0.782112</td>\n",
       "      <td>0.698879</td>\n",
       "    </tr>\n",
       "    <tr>\n",
       "      <th>is_noncitizen</th>\n",
       "      <td>0.638309</td>\n",
       "      <td>0.573054</td>\n",
       "    </tr>\n",
       "  </tbody>\n",
       "</table>\n",
       "</div>"
      ],
      "text/plain": [
       "                              is_Alerted  is_Suspicious\n",
       "is_Alerted                      1.000000       0.911953\n",
       "is_Suspicious                   0.911953       1.000000\n",
       "Account_number                 -0.013886      -0.041613\n",
       "transaction_location           -0.039017      -0.045316\n",
       "transaction_amount              0.168473       0.193095\n",
       "primary_party_account_number   -0.038247      -0.017090\n",
       "Annual_income                   0.067657       0.111626\n",
       "Score1                          0.327619       0.075973\n",
       "Score2                          0.560690       0.558696\n",
       "Score3                          0.231437       0.253781\n",
       "Score4                          0.208750       0.229951\n",
       "Score5                          0.047267       0.078810\n",
       "Score6                          0.638309       0.573054\n",
       "Score7                          0.638309       0.573054\n",
       "Score                           0.782112       0.698879\n",
       "is_noncitizen                   0.638309       0.573054"
      ]
     },
     "execution_count": 6,
     "metadata": {},
     "output_type": "execute_result"
    }
   ],
   "source": [
    "df.corr().head(2).transpose()"
   ]
  },
  {
   "cell_type": "markdown",
   "metadata": {},
   "source": [
    "## is_Suspicious column will be our target variable \n",
    "is_Alerted column will not be used to train, as this column represents traditional method to generate alert."
   ]
  },
  {
   "cell_type": "code",
   "execution_count": 7,
   "metadata": {},
   "outputs": [
    {
     "data": {
      "text/plain": [
       "Index(['is_Alerted', 'is_Suspicious', 'Account_number', 'Transaction_date',\n",
       "       'transaction_location', 'transaction_amount', 'correspondent_bank',\n",
       "       'party_name', 'primary_party_account_number', 'debit_credit',\n",
       "       'Account_First_name', 'Account_Last_Name', 'Account_Open_date',\n",
       "       'Account_type', 'Account_Classification', 'Risk_level', 'Zipcode',\n",
       "       'Annual_income', 'citizenship_country', 'email', 'address', 'branch',\n",
       "       'Business_Sector', 'identification_number', 'Score1', 'Score2',\n",
       "       'Score3', 'Score4', 'Score5', 'Score6', 'Score7', 'Score',\n",
       "       'is_noncitizen'],\n",
       "      dtype='object')"
      ]
     },
     "execution_count": 7,
     "metadata": {},
     "output_type": "execute_result"
    }
   ],
   "source": [
    "df.columns"
   ]
  },
  {
   "cell_type": "code",
   "execution_count": 8,
   "metadata": {},
   "outputs": [
    {
     "name": "stdout",
     "output_type": "stream",
     "text": [
      "<class 'pandas.core.frame.DataFrame'>\n",
      "RangeIndex: 1424 entries, 0 to 1423\n",
      "Data columns (total 33 columns):\n",
      "is_Alerted                      1424 non-null int64\n",
      "is_Suspicious                   1424 non-null int64\n",
      "Account_number                  1424 non-null int64\n",
      "Transaction_date                1424 non-null object\n",
      "transaction_location            1000 non-null float64\n",
      "transaction_amount              1424 non-null float64\n",
      "correspondent_bank              1424 non-null object\n",
      "party_name                      1000 non-null object\n",
      "primary_party_account_number    1424 non-null int64\n",
      "debit_credit                    1424 non-null object\n",
      "Account_First_name              667 non-null object\n",
      "Account_Last_Name               667 non-null object\n",
      "Account_Open_date               1424 non-null object\n",
      "Account_type                    1424 non-null object\n",
      "Account_Classification          1424 non-null object\n",
      "Risk_level                      1424 non-null object\n",
      "Zipcode                         1424 non-null object\n",
      "Annual_income                   1424 non-null float64\n",
      "citizenship_country             1424 non-null object\n",
      "email                           667 non-null object\n",
      "address                         667 non-null object\n",
      "branch                          667 non-null object\n",
      "Business_Sector                 1424 non-null object\n",
      "identification_number           1424 non-null object\n",
      "Score1                          1424 non-null int64\n",
      "Score2                          1424 non-null int64\n",
      "Score3                          1424 non-null int64\n",
      "Score4                          1424 non-null int64\n",
      "Score5                          1424 non-null int64\n",
      "Score6                          1424 non-null int64\n",
      "Score7                          1424 non-null int64\n",
      "Score                           1424 non-null int64\n",
      "is_noncitizen                   1424 non-null int64\n",
      "dtypes: float64(3), int64(13), object(17)\n",
      "memory usage: 367.2+ KB\n"
     ]
    }
   ],
   "source": [
    "df.info()"
   ]
  },
  {
   "cell_type": "markdown",
   "metadata": {},
   "source": [
    "### Feature Selection"
   ]
  },
  {
   "cell_type": "code",
   "execution_count": 9,
   "metadata": {},
   "outputs": [],
   "source": [
    "df_features = df[['is_Alerted', 'is_Suspicious', 'transaction_amount', 'correspondent_bank',\n",
    "                  'debit_credit', 'Account_type', 'Account_Classification', 'Risk_level', \n",
    "                  'Annual_income', 'is_noncitizen']]"
   ]
  },
  {
   "cell_type": "code",
   "execution_count": 10,
   "metadata": {},
   "outputs": [
    {
     "name": "stdout",
     "output_type": "stream",
     "text": [
      "<class 'pandas.core.frame.DataFrame'>\n",
      "RangeIndex: 1424 entries, 0 to 1423\n",
      "Data columns (total 10 columns):\n",
      "is_Alerted                1424 non-null int64\n",
      "is_Suspicious             1424 non-null int64\n",
      "transaction_amount        1424 non-null float64\n",
      "correspondent_bank        1424 non-null object\n",
      "debit_credit              1424 non-null object\n",
      "Account_type              1424 non-null object\n",
      "Account_Classification    1424 non-null object\n",
      "Risk_level                1424 non-null object\n",
      "Annual_income             1424 non-null float64\n",
      "is_noncitizen             1424 non-null int64\n",
      "dtypes: float64(2), int64(3), object(5)\n",
      "memory usage: 111.3+ KB\n"
     ]
    }
   ],
   "source": [
    "df_features.info()"
   ]
  },
  {
   "cell_type": "code",
   "execution_count": 11,
   "metadata": {},
   "outputs": [
    {
     "data": {
      "text/plain": [
       "<seaborn.axisgrid.JointGrid at 0x1a2091e9b0>"
      ]
     },
     "execution_count": 11,
     "metadata": {},
     "output_type": "execute_result"
    },
    {
     "data": {
      "image/png": "[encoded data removed]",
      "text/plain": [
       "<Figure size 432x432 with 3 Axes>"
      ]
     },
     "metadata": {
      "needs_background": "light"
     },
     "output_type": "display_data"
    }
   ],
   "source": [
    "sns.jointplot(x='transaction_amount',y='Annual_income',data=df_features,kind='reg')"
   ]
  },
  {
   "cell_type": "code",
   "execution_count": 12,
   "metadata": {},
   "outputs": [
    {
     "data": {
      "text/plain": [
       "<seaborn.axisgrid.PairGrid at 0x1a2110e198>"
      ]
     },
     "execution_count": 12,
     "metadata": {},
     "output_type": "execute_result"
    },
    {
     "data": {
      "image/png": "[encoded data removed]",
      "text/plain": [
       "<Figure size 974.125x900 with 30 Axes>"
      ]
     },
     "metadata": {
      "needs_background": "light"
     },
     "output_type": "display_data"
    }
   ],
   "source": [
    "sns.pairplot(df_features,hue='is_Suspicious')"
   ]
  },
  {
   "cell_type": "code",
   "execution_count": null,
   "metadata": {},
   "outputs": [],
   "source": []
  },
  {
   "cell_type": "code",
   "execution_count": 13,
   "metadata": {},
   "outputs": [
    {
     "data": {
      "text/plain": [
       "<seaborn.axisgrid.FacetGrid at 0x1a22373470>"
      ]
     },
     "execution_count": 13,
     "metadata": {},
     "output_type": "execute_result"
    },
    {
     "data": {
      "image/png": "[encoded data removed]",
      "text/plain": [
       "<Figure size 506.125x432 with 1 Axes>"
      ]
     },
     "metadata": {
      "needs_background": "light"
     },
     "output_type": "display_data"
    }
   ],
   "source": [
    "sns.lmplot('Annual_income','transaction_amount',data=df, hue='is_Suspicious',\n",
    "           palette='coolwarm',size=6,aspect=1,fit_reg=False)"
   ]
  },
  {
   "cell_type": "markdown",
   "metadata": {},
   "source": [
    "#### One-Hot-Encoding"
   ]
  },
  {
   "cell_type": "code",
   "execution_count": 14,
   "metadata": {},
   "outputs": [],
   "source": [
    "df_transformed = pd.get_dummies(df_features)"
   ]
  },
  {
   "cell_type": "code",
   "execution_count": 15,
   "metadata": {},
   "outputs": [
    {
     "name": "stdout",
     "output_type": "stream",
     "text": [
      "<class 'pandas.core.frame.DataFrame'>\n",
      "RangeIndex: 1424 entries, 0 to 1423\n",
      "Data columns (total 16 columns):\n",
      "is_Alerted                           1424 non-null int64\n",
      "is_Suspicious                        1424 non-null int64\n",
      "transaction_amount                   1424 non-null float64\n",
      "Annual_income                        1424 non-null float64\n",
      "is_noncitizen                        1424 non-null int64\n",
      "correspondent_bank_N                 1424 non-null uint8\n",
      "correspondent_bank_Y                 1424 non-null uint8\n",
      "debit_credit_Credit                  1424 non-null uint8\n",
      "debit_credit_Debit                   1424 non-null uint8\n",
      "Account_type_B-Business              1424 non-null uint8\n",
      "Account_type_P-Private               1424 non-null uint8\n",
      "Account_Classification_C-Checking    1424 non-null uint8\n",
      "Account_Classification_S-Savings     1424 non-null uint8\n",
      "Risk_level_High                      1424 non-null uint8\n",
      "Risk_level_Low                       1424 non-null uint8\n",
      "Risk_level_Medium                    1424 non-null uint8\n",
      "dtypes: float64(2), int64(3), uint8(11)\n",
      "memory usage: 71.0 KB\n"
     ]
    }
   ],
   "source": [
    "df_transformed.info()"
   ]
  },
  {
   "cell_type": "code",
   "execution_count": 16,
   "metadata": {},
   "outputs": [
    {
     "data": {
      "text/html": [
       "<div>\n",
       "<style scoped>\n",
       "    .dataframe tbody tr th:only-of-type {\n",
       "        vertical-align: middle;\n",
       "    }\n",
       "\n",
       "    .dataframe tbody tr th {\n",
       "        vertical-align: top;\n",
       "    }\n",
       "\n",
       "    .dataframe thead th {\n",
       "        text-align: right;\n",
       "    }\n",
       "</style>\n",
       "<table border=\"1\" class=\"dataframe\">\n",
       "  <thead>\n",
       "    <tr style=\"text-align: right;\">\n",
       "      <th></th>\n",
       "      <th>is_Alerted</th>\n",
       "      <th>is_Suspicious</th>\n",
       "    </tr>\n",
       "  </thead>\n",
       "  <tbody>\n",
       "    <tr>\n",
       "      <th>is_Alerted</th>\n",
       "      <td>1.000000</td>\n",
       "      <td>0.911953</td>\n",
       "    </tr>\n",
       "    <tr>\n",
       "      <th>is_Suspicious</th>\n",
       "      <td>0.911953</td>\n",
       "      <td>1.000000</td>\n",
       "    </tr>\n",
       "    <tr>\n",
       "      <th>transaction_amount</th>\n",
       "      <td>0.168473</td>\n",
       "      <td>0.193095</td>\n",
       "    </tr>\n",
       "    <tr>\n",
       "      <th>Annual_income</th>\n",
       "      <td>0.067657</td>\n",
       "      <td>0.111626</td>\n",
       "    </tr>\n",
       "    <tr>\n",
       "      <th>is_noncitizen</th>\n",
       "      <td>0.638309</td>\n",
       "      <td>0.573054</td>\n",
       "    </tr>\n",
       "    <tr>\n",
       "      <th>correspondent_bank_N</th>\n",
       "      <td>-0.107488</td>\n",
       "      <td>-0.084958</td>\n",
       "    </tr>\n",
       "    <tr>\n",
       "      <th>correspondent_bank_Y</th>\n",
       "      <td>0.107488</td>\n",
       "      <td>0.084958</td>\n",
       "    </tr>\n",
       "    <tr>\n",
       "      <th>debit_credit_Credit</th>\n",
       "      <td>-0.026222</td>\n",
       "      <td>-0.055296</td>\n",
       "    </tr>\n",
       "    <tr>\n",
       "      <th>debit_credit_Debit</th>\n",
       "      <td>0.026222</td>\n",
       "      <td>0.055296</td>\n",
       "    </tr>\n",
       "    <tr>\n",
       "      <th>Account_type_B-Business</th>\n",
       "      <td>-0.198228</td>\n",
       "      <td>-0.181978</td>\n",
       "    </tr>\n",
       "    <tr>\n",
       "      <th>Account_type_P-Private</th>\n",
       "      <td>0.198228</td>\n",
       "      <td>0.181978</td>\n",
       "    </tr>\n",
       "    <tr>\n",
       "      <th>Account_Classification_C-Checking</th>\n",
       "      <td>-0.254561</td>\n",
       "      <td>-0.223947</td>\n",
       "    </tr>\n",
       "    <tr>\n",
       "      <th>Account_Classification_S-Savings</th>\n",
       "      <td>0.254561</td>\n",
       "      <td>0.223947</td>\n",
       "    </tr>\n",
       "    <tr>\n",
       "      <th>Risk_level_High</th>\n",
       "      <td>0.560690</td>\n",
       "      <td>0.558696</td>\n",
       "    </tr>\n",
       "    <tr>\n",
       "      <th>Risk_level_Low</th>\n",
       "      <td>-0.458637</td>\n",
       "      <td>-0.434308</td>\n",
       "    </tr>\n",
       "    <tr>\n",
       "      <th>Risk_level_Medium</th>\n",
       "      <td>0.007836</td>\n",
       "      <td>-0.022251</td>\n",
       "    </tr>\n",
       "  </tbody>\n",
       "</table>\n",
       "</div>"
      ],
      "text/plain": [
       "                                   is_Alerted  is_Suspicious\n",
       "is_Alerted                           1.000000       0.911953\n",
       "is_Suspicious                        0.911953       1.000000\n",
       "transaction_amount                   0.168473       0.193095\n",
       "Annual_income                        0.067657       0.111626\n",
       "is_noncitizen                        0.638309       0.573054\n",
       "correspondent_bank_N                -0.107488      -0.084958\n",
       "correspondent_bank_Y                 0.107488       0.084958\n",
       "debit_credit_Credit                 -0.026222      -0.055296\n",
       "debit_credit_Debit                   0.026222       0.055296\n",
       "Account_type_B-Business             -0.198228      -0.181978\n",
       "Account_type_P-Private               0.198228       0.181978\n",
       "Account_Classification_C-Checking   -0.254561      -0.223947\n",
       "Account_Classification_S-Savings     0.254561       0.223947\n",
       "Risk_level_High                      0.560690       0.558696\n",
       "Risk_level_Low                      -0.458637      -0.434308\n",
       "Risk_level_Medium                    0.007836      -0.022251"
      ]
     },
     "execution_count": 16,
     "metadata": {},
     "output_type": "execute_result"
    }
   ],
   "source": [
    "df_transformed.corr().head(2).transpose()"
   ]
  },
  {
   "cell_type": "code",
   "execution_count": 17,
   "metadata": {},
   "outputs": [
    {
     "data": {
      "text/plain": [
       "<matplotlib.axes._subplots.AxesSubplot at 0x1a2286fdd8>"
      ]
     },
     "execution_count": 17,
     "metadata": {},
     "output_type": "execute_result"
    },
    {
     "data": {
      "image/png": "[encoded data removed]",
      "text/plain": [
       "<Figure size 432x288 with 2 Axes>"
      ]
     },
     "metadata": {
      "needs_background": "light"
     },
     "output_type": "display_data"
    }
   ],
   "source": [
    "sns.heatmap(df_transformed.corr())"
   ]
  },
  {
   "cell_type": "code",
   "execution_count": 18,
   "metadata": {},
   "outputs": [
    {
     "data": {
      "text/plain": [
       "<seaborn.axisgrid.JointGrid at 0x1a22b72128>"
      ]
     },
     "execution_count": 18,
     "metadata": {},
     "output_type": "execute_result"
    },
    {
     "data": {
      "image/png": "[encoded data removed]",
      "text/plain": [
       "<Figure size 432x432 with 3 Axes>"
      ]
     },
     "metadata": {
      "needs_background": "light"
     },
     "output_type": "display_data"
    }
   ],
   "source": [
    "sns.jointplot(x='transaction_amount',y='Risk_level_High',data=df_transformed,kind='reg')"
   ]
  },
  {
   "cell_type": "markdown",
   "metadata": {},
   "source": [
    "### Machine Learning Algorithms"
   ]
  },
  {
   "cell_type": "code",
   "execution_count": 19,
   "metadata": {},
   "outputs": [],
   "source": [
    "X = df_transformed.drop(['is_Alerted', 'is_Suspicious'], axis=1)\n",
    "y = df_transformed['is_Suspicious']\n",
    "X_train, X_test, y_train, y_test = train_test_split(X, y, test_size=0.25)\n"
   ]
  },
  {
   "cell_type": "markdown",
   "metadata": {},
   "source": [
    "#### Logistic Regression Model"
   ]
  },
  {
   "cell_type": "code",
   "execution_count": 20,
   "metadata": {},
   "outputs": [
    {
     "name": "stdout",
     "output_type": "stream",
     "text": [
      "              precision    recall  f1-score   support\n",
      "\n",
      "           0       0.88      1.00      0.94       311\n",
      "           1       1.00      0.07      0.12        45\n",
      "\n",
      "    accuracy                           0.88       356\n",
      "   macro avg       0.94      0.53      0.53       356\n",
      "weighted avg       0.90      0.88      0.83       356\n",
      "\n",
      "[[311   0]\n",
      " [ 42   3]]\n"
     ]
    }
   ],
   "source": [
    "\n",
    "logmodel = LogisticRegression()\n",
    "logmodel.fit(X_train,y_train)\n",
    "predictions = logmodel.predict(X_test)\n",
    "\n",
    "print(classification_report(y_test,predictions))\n",
    "print(confusion_matrix(y_test,predictions))\n"
   ]
  },
  {
   "cell_type": "code",
   "execution_count": 21,
   "metadata": {},
   "outputs": [],
   "source": [
    "cf = confusion_matrix(y_test,predictions)"
   ]
  },
  {
   "cell_type": "code",
   "execution_count": 22,
   "metadata": {},
   "outputs": [
    {
     "name": "stdout",
     "output_type": "stream",
     "text": [
      "Accuracy on testing data: 1.0000 \n",
      "\n",
      "Recall on testing data: 0.8810\n"
     ]
    }
   ],
   "source": [
    "TP = cf[0][0]\n",
    "FP = cf[0][1]\n",
    "FN = cf[1][0]\n",
    "TN = cf[1][1]\n",
    "recall = TP/(TP+FN)\n",
    "accuracy = TP/(TP+FP)\n",
    "print(\"Accuracy on testing data: {:.4f} \\n\\nRecall on testing data: {:.4f}\".format(accuracy,recall))"
   ]
  },
  {
   "cell_type": "code",
   "execution_count": null,
   "metadata": {},
   "outputs": [],
   "source": []
  },
  {
   "cell_type": "markdown",
   "metadata": {},
   "source": [
    "#### Random Forest Classifier"
   ]
  },
  {
   "cell_type": "code",
   "execution_count": 23,
   "metadata": {},
   "outputs": [
    {
     "name": "stdout",
     "output_type": "stream",
     "text": [
      "              precision    recall  f1-score   support\n",
      "\n",
      "           0       0.97      1.00      0.98       311\n",
      "           1       0.97      0.80      0.88        45\n",
      "\n",
      "    accuracy                           0.97       356\n",
      "   macro avg       0.97      0.90      0.93       356\n",
      "weighted avg       0.97      0.97      0.97       356\n",
      "\n",
      "[[310   1]\n",
      " [  9  36]]\n"
     ]
    }
   ],
   "source": [
    "\n",
    "rfc = RandomForestClassifier()\n",
    "rfc.fit(X_train,y_train)\n",
    "predictions = rfc.predict(X_test)\n",
    "\n",
    "print(classification_report(y_test,predictions))\n",
    "print(confusion_matrix(y_test,predictions))\n"
   ]
  },
  {
   "cell_type": "code",
   "execution_count": 24,
   "metadata": {},
   "outputs": [
    {
     "data": {
      "text/plain": [
       "array([[310,   1],\n",
       "       [  9,  36]])"
      ]
     },
     "execution_count": 24,
     "metadata": {},
     "output_type": "execute_result"
    }
   ],
   "source": [
    "cf = confusion_matrix(y_test,predictions)\n",
    "cf"
   ]
  },
  {
   "cell_type": "code",
   "execution_count": 25,
   "metadata": {},
   "outputs": [],
   "source": [
    "TP = cf[0][0]\n",
    "FP = cf[0][1]\n",
    "FN = cf[1][0]\n",
    "TN = cf[1][1]"
   ]
  },
  {
   "cell_type": "code",
   "execution_count": 26,
   "metadata": {},
   "outputs": [],
   "source": [
    "recall = TP/(TP+FN)\n",
    "accuracy = TP/(TP+FP)"
   ]
  },
  {
   "cell_type": "code",
   "execution_count": 27,
   "metadata": {},
   "outputs": [
    {
     "name": "stdout",
     "output_type": "stream",
     "text": [
      "Accuracy on testing data: 0.9968 \n",
      "\n",
      "Recall on testing data: 0.9718\n"
     ]
    }
   ],
   "source": [
    "print(\"Accuracy on testing data: {:.4f} \\n\\nRecall on testing data: {:.4f}\".format(accuracy,recall))"
   ]
  },
  {
   "cell_type": "markdown",
   "metadata": {},
   "source": [
    "## Analysis on Naive vs Machine Learning approach"
   ]
  },
  {
   "cell_type": "code",
   "execution_count": 28,
   "metadata": {},
   "outputs": [
    {
     "name": "stdout",
     "output_type": "stream",
     "text": [
      "Alerted transactions: 195\n",
      "Real Suspicious Transactions: 166\n",
      "False Positive generated by Naive logic: 17.47%\n"
     ]
    }
   ],
   "source": [
    "# Number of transaction to be raised as suspicious by Naive approach or plain ETL logic\n",
    "print(\"Alerted transactions:\",len(df_transformed[df_transformed['is_Alerted'] == 1]))\n",
    "\n",
    "# Number of transaction marked as real suspicious and goes for final reporting\n",
    "print(\"Real Suspicious Transactions:\",len(df_transformed[df_transformed['is_Suspicious']==1]))\n",
    "\n",
    "\n",
    "# Number of False Positive generated by ETL/Naive logic\n",
    "print(\"False Positive generated by Naive logic: {}%\".format(round(100*(len(df_transformed[df_transformed['is_Alerted'] == 1]) - \n",
    "      len(df_transformed[df_transformed['is_Suspicious']==1]))/len(df_transformed[df_transformed['is_Suspicious']==1]),2)))\n"
   ]
  },
  {
   "cell_type": "markdown",
   "metadata": {},
   "source": [
    "### Comparing"
   ]
  },
  {
   "cell_type": "code",
   "execution_count": 29,
   "metadata": {},
   "outputs": [
    {
     "name": "stdout",
     "output_type": "stream",
     "text": [
      "False Positive generated by Machine Learning : 0.2817%\n",
      "False Negative generated by Machine Learning : 12.3288%\n"
     ]
    }
   ],
   "source": [
    "print(\"False Positive generated by Machine Learning : {:.4f}%\".format(100*FP/(TP+TN+FN)))\n",
    "print(\"False Negative generated by Machine Learning : {:.4f}%\".format(100*FN/(TN+TN+FP)))"
   ]
  },
  {
   "cell_type": "markdown",
   "metadata": {},
   "source": [
    "# Network Analysis on Suspicious Transactions \n",
    "## Loading the single user profile data"
   ]
  },
  {
   "cell_type": "code",
   "execution_count": 30,
   "metadata": {},
   "outputs": [
    {
     "data": {
      "text/html": [
       "<div>\n",
       "<style scoped>\n",
       "    .dataframe tbody tr th:only-of-type {\n",
       "        vertical-align: middle;\n",
       "    }\n",
       "\n",
       "    .dataframe tbody tr th {\n",
       "        vertical-align: top;\n",
       "    }\n",
       "\n",
       "    .dataframe thead th {\n",
       "        text-align: right;\n",
       "    }\n",
       "</style>\n",
       "<table border=\"1\" class=\"dataframe\">\n",
       "  <thead>\n",
       "    <tr style=\"text-align: right;\">\n",
       "      <th></th>\n",
       "      <th>Is_Alerted</th>\n",
       "      <th>Account_number</th>\n",
       "      <th>Total_Tran_Amt</th>\n",
       "      <th>Total_transactions</th>\n",
       "      <th>Primary_party_acc_no</th>\n",
       "      <th>Weight_1</th>\n",
       "      <th>Weight_2</th>\n",
       "      <th>Final_Weight</th>\n",
       "    </tr>\n",
       "  </thead>\n",
       "  <tbody>\n",
       "    <tr>\n",
       "      <th>0</th>\n",
       "      <td>1</td>\n",
       "      <td>11111111</td>\n",
       "      <td>18000</td>\n",
       "      <td>5</td>\n",
       "      <td>22222222</td>\n",
       "      <td>3</td>\n",
       "      <td>2</td>\n",
       "      <td>5</td>\n",
       "    </tr>\n",
       "    <tr>\n",
       "      <th>1</th>\n",
       "      <td>1</td>\n",
       "      <td>11111111</td>\n",
       "      <td>360000</td>\n",
       "      <td>8</td>\n",
       "      <td>33333333</td>\n",
       "      <td>5</td>\n",
       "      <td>4</td>\n",
       "      <td>9</td>\n",
       "    </tr>\n",
       "    <tr>\n",
       "      <th>2</th>\n",
       "      <td>1</td>\n",
       "      <td>11111111</td>\n",
       "      <td>3000</td>\n",
       "      <td>1</td>\n",
       "      <td>44444444</td>\n",
       "      <td>1</td>\n",
       "      <td>0</td>\n",
       "      <td>1</td>\n",
       "    </tr>\n",
       "    <tr>\n",
       "      <th>3</th>\n",
       "      <td>1</td>\n",
       "      <td>11111111</td>\n",
       "      <td>2000</td>\n",
       "      <td>1</td>\n",
       "      <td>55555555</td>\n",
       "      <td>1</td>\n",
       "      <td>0</td>\n",
       "      <td>1</td>\n",
       "    </tr>\n",
       "    <tr>\n",
       "      <th>4</th>\n",
       "      <td>1</td>\n",
       "      <td>11111111</td>\n",
       "      <td>13000</td>\n",
       "      <td>5</td>\n",
       "      <td>66666666</td>\n",
       "      <td>2</td>\n",
       "      <td>2</td>\n",
       "      <td>4</td>\n",
       "    </tr>\n",
       "    <tr>\n",
       "      <th>5</th>\n",
       "      <td>1</td>\n",
       "      <td>11111111</td>\n",
       "      <td>27000</td>\n",
       "      <td>3</td>\n",
       "      <td>77777777</td>\n",
       "      <td>5</td>\n",
       "      <td>1</td>\n",
       "      <td>6</td>\n",
       "    </tr>\n",
       "    <tr>\n",
       "      <th>6</th>\n",
       "      <td>1</td>\n",
       "      <td>11111111</td>\n",
       "      <td>49000</td>\n",
       "      <td>4</td>\n",
       "      <td>88888888</td>\n",
       "      <td>5</td>\n",
       "      <td>1</td>\n",
       "      <td>6</td>\n",
       "    </tr>\n",
       "    <tr>\n",
       "      <th>7</th>\n",
       "      <td>1</td>\n",
       "      <td>11111111</td>\n",
       "      <td>20000</td>\n",
       "      <td>5</td>\n",
       "      <td>99999999</td>\n",
       "      <td>3</td>\n",
       "      <td>2</td>\n",
       "      <td>5</td>\n",
       "    </tr>\n",
       "    <tr>\n",
       "      <th>8</th>\n",
       "      <td>1</td>\n",
       "      <td>11111111</td>\n",
       "      <td>6000</td>\n",
       "      <td>2</td>\n",
       "      <td>900000000</td>\n",
       "      <td>1</td>\n",
       "      <td>0</td>\n",
       "      <td>1</td>\n",
       "    </tr>\n",
       "  </tbody>\n",
       "</table>\n",
       "</div>"
      ],
      "text/plain": [
       "   Is_Alerted  Account_number  Total_Tran_Amt  Total_transactions  \\\n",
       "0           1        11111111           18000                   5   \n",
       "1           1        11111111          360000                   8   \n",
       "2           1        11111111            3000                   1   \n",
       "3           1        11111111            2000                   1   \n",
       "4           1        11111111           13000                   5   \n",
       "5           1        11111111           27000                   3   \n",
       "6           1        11111111           49000                   4   \n",
       "7           1        11111111           20000                   5   \n",
       "8           1        11111111            6000                   2   \n",
       "\n",
       "   Primary_party_acc_no  Weight_1  Weight_2  Final_Weight  \n",
       "0              22222222         3         2             5  \n",
       "1              33333333         5         4             9  \n",
       "2              44444444         1         0             1  \n",
       "3              55555555         1         0             1  \n",
       "4              66666666         2         2             4  \n",
       "5              77777777         5         1             6  \n",
       "6              88888888         5         1             6  \n",
       "7              99999999         3         2             5  \n",
       "8             900000000         1         0             1  "
      ]
     },
     "execution_count": 30,
     "metadata": {},
     "output_type": "execute_result"
    }
   ],
   "source": [
    "df1 = pd.read_csv('Network_Analysis_Data.csv')\n",
    "df1"
   ]
  },
  {
   "cell_type": "markdown",
   "metadata": {},
   "source": [
    "### Weights are calculated using nested if conditions\n",
    "#### =IF(Total_Tran_Amt<10000,5,(Total_Tran_Amt<15000,4,(Total_Tran_Amt<20000,3,(Total_Tran_Amt<25000,2,1))))\n",
    "\n",
    "#### =IF(Total_transactions>8,5,IF(Total_transactions>7,4,IF(Total_transactions>6,3,IF(Total_transactions>4,2, IF(Total_transactions>2,1,0)))))"
   ]
  },
  {
   "cell_type": "markdown",
   "metadata": {},
   "source": [
    "### Creating a function that will define edges, nodes and weights for their relationships"
   ]
  },
  {
   "cell_type": "code",
   "execution_count": 31,
   "metadata": {},
   "outputs": [],
   "source": [
    "Network_graph = nx.Graph()\n",
    "\n",
    "#Function that will run for the length of dataframe df\n",
    "def Create_Network():\n",
    "    for i in range(len(df1)):\n",
    "        Network_graph.add_edge(df1['Account_number'][i],df1['Primary_party_acc_no'][i], \n",
    "                               weight=df1['Final_Weight'][i])"
   ]
  },
  {
   "cell_type": "code",
   "execution_count": 32,
   "metadata": {},
   "outputs": [
    {
     "data": {
      "image/png": "[encoded data removed]",
      "text/plain": [
       "<Figure size 432x288 with 1 Axes>"
      ]
     },
     "metadata": {},
     "output_type": "display_data"
    }
   ],
   "source": [
    "#calling the function\n",
    "Create_Network()\n",
    "\n",
    "#drawing the network diagram\n",
    "nx.draw_networkx(Network_graph)"
   ]
  },
  {
   "cell_type": "markdown",
   "metadata": {},
   "source": [
    "### Verifying the density"
   ]
  },
  {
   "cell_type": "code",
   "execution_count": 33,
   "metadata": {},
   "outputs": [
    {
     "name": "stdout",
     "output_type": "stream",
     "text": [
      "0.2\n"
     ]
    }
   ],
   "source": [
    "density = nx.density(Network_graph)\n",
    "print(density)"
   ]
  },
  {
   "cell_type": "markdown",
   "metadata": {},
   "source": [
    "## Network Graph for multiple user profiles:\n",
    "### Loading the multi user profile data"
   ]
  },
  {
   "cell_type": "code",
   "execution_count": 34,
   "metadata": {},
   "outputs": [
    {
     "data": {
      "text/html": [
       "<div>\n",
       "<style scoped>\n",
       "    .dataframe tbody tr th:only-of-type {\n",
       "        vertical-align: middle;\n",
       "    }\n",
       "\n",
       "    .dataframe tbody tr th {\n",
       "        vertical-align: top;\n",
       "    }\n",
       "\n",
       "    .dataframe thead th {\n",
       "        text-align: right;\n",
       "    }\n",
       "</style>\n",
       "<table border=\"1\" class=\"dataframe\">\n",
       "  <thead>\n",
       "    <tr style=\"text-align: right;\">\n",
       "      <th></th>\n",
       "      <th>Is_Alerted</th>\n",
       "      <th>Account_number</th>\n",
       "      <th>Total_Tran_Amt</th>\n",
       "      <th>Total_transactions</th>\n",
       "      <th>Primary_party_acc_no</th>\n",
       "      <th>Weight_1</th>\n",
       "      <th>Weight_2</th>\n",
       "      <th>Final_Weight</th>\n",
       "    </tr>\n",
       "  </thead>\n",
       "  <tbody>\n",
       "    <tr>\n",
       "      <th>0</th>\n",
       "      <td>1</td>\n",
       "      <td>11111111</td>\n",
       "      <td>18000</td>\n",
       "      <td>5</td>\n",
       "      <td>22222222</td>\n",
       "      <td>3</td>\n",
       "      <td>2</td>\n",
       "      <td>5</td>\n",
       "    </tr>\n",
       "    <tr>\n",
       "      <th>1</th>\n",
       "      <td>1</td>\n",
       "      <td>11111111</td>\n",
       "      <td>36000</td>\n",
       "      <td>8</td>\n",
       "      <td>33333333</td>\n",
       "      <td>5</td>\n",
       "      <td>4</td>\n",
       "      <td>9</td>\n",
       "    </tr>\n",
       "    <tr>\n",
       "      <th>2</th>\n",
       "      <td>1</td>\n",
       "      <td>11111111</td>\n",
       "      <td>3000</td>\n",
       "      <td>1</td>\n",
       "      <td>44444444</td>\n",
       "      <td>1</td>\n",
       "      <td>0</td>\n",
       "      <td>1</td>\n",
       "    </tr>\n",
       "    <tr>\n",
       "      <th>3</th>\n",
       "      <td>1</td>\n",
       "      <td>22222222</td>\n",
       "      <td>2000</td>\n",
       "      <td>1</td>\n",
       "      <td>55555555</td>\n",
       "      <td>1</td>\n",
       "      <td>0</td>\n",
       "      <td>1</td>\n",
       "    </tr>\n",
       "    <tr>\n",
       "      <th>4</th>\n",
       "      <td>1</td>\n",
       "      <td>22222222</td>\n",
       "      <td>13000</td>\n",
       "      <td>5</td>\n",
       "      <td>66666666</td>\n",
       "      <td>2</td>\n",
       "      <td>2</td>\n",
       "      <td>4</td>\n",
       "    </tr>\n",
       "    <tr>\n",
       "      <th>5</th>\n",
       "      <td>1</td>\n",
       "      <td>22222222</td>\n",
       "      <td>27000</td>\n",
       "      <td>3</td>\n",
       "      <td>77777777</td>\n",
       "      <td>5</td>\n",
       "      <td>1</td>\n",
       "      <td>6</td>\n",
       "    </tr>\n",
       "    <tr>\n",
       "      <th>6</th>\n",
       "      <td>1</td>\n",
       "      <td>33333333</td>\n",
       "      <td>49000</td>\n",
       "      <td>4</td>\n",
       "      <td>88888888</td>\n",
       "      <td>5</td>\n",
       "      <td>1</td>\n",
       "      <td>6</td>\n",
       "    </tr>\n",
       "    <tr>\n",
       "      <th>7</th>\n",
       "      <td>1</td>\n",
       "      <td>33333333</td>\n",
       "      <td>20000</td>\n",
       "      <td>5</td>\n",
       "      <td>99999999</td>\n",
       "      <td>3</td>\n",
       "      <td>2</td>\n",
       "      <td>5</td>\n",
       "    </tr>\n",
       "    <tr>\n",
       "      <th>8</th>\n",
       "      <td>1</td>\n",
       "      <td>33333333</td>\n",
       "      <td>6000</td>\n",
       "      <td>2</td>\n",
       "      <td>22222222</td>\n",
       "      <td>1</td>\n",
       "      <td>0</td>\n",
       "      <td>1</td>\n",
       "    </tr>\n",
       "    <tr>\n",
       "      <th>9</th>\n",
       "      <td>1</td>\n",
       "      <td>44444444</td>\n",
       "      <td>11000</td>\n",
       "      <td>1</td>\n",
       "      <td>55555555</td>\n",
       "      <td>2</td>\n",
       "      <td>0</td>\n",
       "      <td>2</td>\n",
       "    </tr>\n",
       "    <tr>\n",
       "      <th>10</th>\n",
       "      <td>1</td>\n",
       "      <td>44444444</td>\n",
       "      <td>4000</td>\n",
       "      <td>1</td>\n",
       "      <td>22222222</td>\n",
       "      <td>1</td>\n",
       "      <td>0</td>\n",
       "      <td>1</td>\n",
       "    </tr>\n",
       "    <tr>\n",
       "      <th>11</th>\n",
       "      <td>1</td>\n",
       "      <td>44444444</td>\n",
       "      <td>50000</td>\n",
       "      <td>12</td>\n",
       "      <td>66666666</td>\n",
       "      <td>5</td>\n",
       "      <td>5</td>\n",
       "      <td>10</td>\n",
       "    </tr>\n",
       "    <tr>\n",
       "      <th>12</th>\n",
       "      <td>1</td>\n",
       "      <td>55555555</td>\n",
       "      <td>34000</td>\n",
       "      <td>6</td>\n",
       "      <td>44444444</td>\n",
       "      <td>5</td>\n",
       "      <td>2</td>\n",
       "      <td>7</td>\n",
       "    </tr>\n",
       "    <tr>\n",
       "      <th>13</th>\n",
       "      <td>1</td>\n",
       "      <td>55555555</td>\n",
       "      <td>2000</td>\n",
       "      <td>1</td>\n",
       "      <td>33333333</td>\n",
       "      <td>1</td>\n",
       "      <td>0</td>\n",
       "      <td>1</td>\n",
       "    </tr>\n",
       "    <tr>\n",
       "      <th>14</th>\n",
       "      <td>1</td>\n",
       "      <td>55555555</td>\n",
       "      <td>34000</td>\n",
       "      <td>5</td>\n",
       "      <td>88888888</td>\n",
       "      <td>5</td>\n",
       "      <td>2</td>\n",
       "      <td>7</td>\n",
       "    </tr>\n",
       "    <tr>\n",
       "      <th>15</th>\n",
       "      <td>1</td>\n",
       "      <td>66666666</td>\n",
       "      <td>340</td>\n",
       "      <td>1</td>\n",
       "      <td>44444444</td>\n",
       "      <td>1</td>\n",
       "      <td>0</td>\n",
       "      <td>1</td>\n",
       "    </tr>\n",
       "    <tr>\n",
       "      <th>16</th>\n",
       "      <td>1</td>\n",
       "      <td>66666666</td>\n",
       "      <td>23400</td>\n",
       "      <td>1</td>\n",
       "      <td>33333333</td>\n",
       "      <td>4</td>\n",
       "      <td>0</td>\n",
       "      <td>4</td>\n",
       "    </tr>\n",
       "    <tr>\n",
       "      <th>17</th>\n",
       "      <td>1</td>\n",
       "      <td>66666666</td>\n",
       "      <td>2000</td>\n",
       "      <td>1</td>\n",
       "      <td>66666666</td>\n",
       "      <td>1</td>\n",
       "      <td>0</td>\n",
       "      <td>1</td>\n",
       "    </tr>\n",
       "    <tr>\n",
       "      <th>18</th>\n",
       "      <td>1</td>\n",
       "      <td>77777777</td>\n",
       "      <td>4000</td>\n",
       "      <td>1</td>\n",
       "      <td>22222222</td>\n",
       "      <td>1</td>\n",
       "      <td>0</td>\n",
       "      <td>1</td>\n",
       "    </tr>\n",
       "    <tr>\n",
       "      <th>19</th>\n",
       "      <td>1</td>\n",
       "      <td>77777777</td>\n",
       "      <td>6000</td>\n",
       "      <td>4</td>\n",
       "      <td>55555555</td>\n",
       "      <td>1</td>\n",
       "      <td>1</td>\n",
       "      <td>2</td>\n",
       "    </tr>\n",
       "    <tr>\n",
       "      <th>20</th>\n",
       "      <td>1</td>\n",
       "      <td>77777777</td>\n",
       "      <td>1000</td>\n",
       "      <td>1</td>\n",
       "      <td>66666666</td>\n",
       "      <td>1</td>\n",
       "      <td>0</td>\n",
       "      <td>1</td>\n",
       "    </tr>\n",
       "    <tr>\n",
       "      <th>21</th>\n",
       "      <td>1</td>\n",
       "      <td>99999999</td>\n",
       "      <td>30000</td>\n",
       "      <td>6</td>\n",
       "      <td>11111111</td>\n",
       "      <td>5</td>\n",
       "      <td>2</td>\n",
       "      <td>7</td>\n",
       "    </tr>\n",
       "    <tr>\n",
       "      <th>22</th>\n",
       "      <td>1</td>\n",
       "      <td>99999999</td>\n",
       "      <td>1000</td>\n",
       "      <td>1</td>\n",
       "      <td>88888888</td>\n",
       "      <td>1</td>\n",
       "      <td>0</td>\n",
       "      <td>1</td>\n",
       "    </tr>\n",
       "  </tbody>\n",
       "</table>\n",
       "</div>"
      ],
      "text/plain": [
       "    Is_Alerted  Account_number  Total_Tran_Amt  Total_transactions  \\\n",
       "0            1        11111111           18000                   5   \n",
       "1            1        11111111           36000                   8   \n",
       "2            1        11111111            3000                   1   \n",
       "3            1        22222222            2000                   1   \n",
       "4            1        22222222           13000                   5   \n",
       "5            1        22222222           27000                   3   \n",
       "6            1        33333333           49000                   4   \n",
       "7            1        33333333           20000                   5   \n",
       "8            1        33333333            6000                   2   \n",
       "9            1        44444444           11000                   1   \n",
       "10           1        44444444            4000                   1   \n",
       "11           1        44444444           50000                  12   \n",
       "12           1        55555555           34000                   6   \n",
       "13           1        55555555            2000                   1   \n",
       "14           1        55555555           34000                   5   \n",
       "15           1        66666666             340                   1   \n",
       "16           1        66666666           23400                   1   \n",
       "17           1        66666666            2000                   1   \n",
       "18           1        77777777            4000                   1   \n",
       "19           1        77777777            6000                   4   \n",
       "20           1        77777777            1000                   1   \n",
       "21           1        99999999           30000                   6   \n",
       "22           1        99999999            1000                   1   \n",
       "\n",
       "    Primary_party_acc_no  Weight_1  Weight_2  Final_Weight  \n",
       "0               22222222         3         2             5  \n",
       "1               33333333         5         4             9  \n",
       "2               44444444         1         0             1  \n",
       "3               55555555         1         0             1  \n",
       "4               66666666         2         2             4  \n",
       "5               77777777         5         1             6  \n",
       "6               88888888         5         1             6  \n",
       "7               99999999         3         2             5  \n",
       "8               22222222         1         0             1  \n",
       "9               55555555         2         0             2  \n",
       "10              22222222         1         0             1  \n",
       "11              66666666         5         5            10  \n",
       "12              44444444         5         2             7  \n",
       "13              33333333         1         0             1  \n",
       "14              88888888         5         2             7  \n",
       "15              44444444         1         0             1  \n",
       "16              33333333         4         0             4  \n",
       "17              66666666         1         0             1  \n",
       "18              22222222         1         0             1  \n",
       "19              55555555         1         1             2  \n",
       "20              66666666         1         0             1  \n",
       "21              11111111         5         2             7  \n",
       "22              88888888         1         0             1  "
      ]
     },
     "execution_count": 34,
     "metadata": {},
     "output_type": "execute_result"
    }
   ],
   "source": [
    "df_multi = pd.read_csv('Network_Analysis_Data_Multi.csv')\n",
    "df_multi"
   ]
  },
  {
   "cell_type": "markdown",
   "metadata": {},
   "source": [
    "## Creating a function that will define edges, nodes and weights for their relationships"
   ]
  },
  {
   "cell_type": "code",
   "execution_count": 35,
   "metadata": {},
   "outputs": [],
   "source": [
    "Network_graph_Multi = nx.Graph()\n",
    "\n",
    "#Function that will run for the length of dataframe df\n",
    "def Create_Network_Multi():\n",
    "    for i in range(len(df_multi)):\n",
    "        Network_graph_Multi.add_edge(df_multi['Account_number'][i],df_multi['Primary_party_acc_no'][i], \n",
    "                                     weight=df_multi['Final_Weight'][i])\n",
    "        "
   ]
  },
  {
   "cell_type": "code",
   "execution_count": 36,
   "metadata": {},
   "outputs": [
    {
     "data": {
      "image/png": "[encoded data removed]",
      "text/plain": [
       "<Figure size 432x288 with 1 Axes>"
      ]
     },
     "metadata": {},
     "output_type": "display_data"
    }
   ],
   "source": [
    "#Calling the function\n",
    "Create_Network_Multi()\n",
    "nx.draw_networkx(Network_graph_Multi)"
   ]
  },
  {
   "cell_type": "code",
   "execution_count": 37,
   "metadata": {},
   "outputs": [
    {
     "name": "stdout",
     "output_type": "stream",
     "text": [
      "Density: 0.5555555555555556\n"
     ]
    }
   ],
   "source": [
    "density = nx.density(Network_graph_Multi)\n",
    "print(\"Density:\",density)"
   ]
  },
  {
   "cell_type": "code",
   "execution_count": null,
   "metadata": {},
   "outputs": [],
   "source": []
  },
  {
   "cell_type": "code",
   "execution_count": null,
   "metadata": {},
   "outputs": [],
   "source": []
  },
  {
   "cell_type": "code",
   "execution_count": null,
   "metadata": {},
   "outputs": [],
   "source": []
  },
  {
   "cell_type": "code",
   "execution_count": null,
   "metadata": {},
   "outputs": [],
   "source": []
  },
  {
   "cell_type": "markdown",
   "metadata": {},
   "source": [
    "# End Here"
   ]
  }
 ],
 "metadata": {
  "kernelspec": {
   "display_name": "Python 3",
   "language": "python",
   "name": "python3"
  },
  "language_info": {
   "codemirror_mode": {
    "name": "ipython",
    "version": 3
   },
   "file_extension": ".py",
   "mimetype": "text/x-python",
   "name": "python",
   "nbconvert_exporter": "python",
   "pygments_lexer": "ipython3",
   "version": "3.7.3"
  }
 },
 "nbformat": 4,
 "nbformat_minor": 2
}
